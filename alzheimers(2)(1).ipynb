{
  "cells": [
    {
      "cell_type": "code",
      "execution_count": 4,
      "id": "f869db5d",
      "metadata": {
        "id": "f869db5d"
      },
      "outputs": [],
      "source": [
        "import numpy as np\n",
        "import pandas as pd\n",
        "import pandas as pd\n",
        "import numpy as np\n",
        "from tensorflow.keras.models import Sequential\n",
        "from tensorflow.keras.layers import LSTM, Dense, Dropout\n",
        "from tensorflow.keras.optimizers import Adam\n",
        "from tensorflow.keras.layers import Conv1D, MaxPooling1D, Dropout, Flatten, Dense\n",
        "from sklearn.model_selection import train_test_split\n",
        "from sklearn.metrics import accuracy_score, precision_score, recall_score, f1_score\n",
        "from sklearn.metrics import confusion_matrix, ConfusionMatrixDisplay\n",
        "import matplotlib.pyplot as plt\n",
        "from tensorflow.keras.callbacks import EarlyStopping\n",
        "from sklearn.preprocessing import StandardScaler\n",
        "from sklearn.linear_model import LogisticRegression\n",
        "from tensorflow.keras import regularizers\n",
        "from sklearn.ensemble import RandomForestClassifier\n",
        "from xgboost import XGBClassifier\n",
        "from sklearn.svm import SVC\n",
        "from sklearn.model_selection import GridSearchCV"
      ]
    },
    {
      "cell_type": "markdown",
      "id": "8dd8efa3",
      "metadata": {
        "id": "8dd8efa3"
      },
      "source": [
        "**LOAD DATASET**"
      ]
    },
    {
      "cell_type": "code",
      "execution_count": 5,
      "id": "c40abd02",
      "metadata": {
        "colab": {
          "base_uri": "https://localhost:8080/"
        },
        "id": "c40abd02",
        "outputId": "7e0d857f-f122-4b0a-c828-aa2fe7c40f43"
      },
      "outputs": [
        {
          "output_type": "stream",
          "name": "stdout",
          "text": [
            "   Age  Gender  Ethnicity  EducationLevel        BMI  Smoking  \\\n",
            "0   73       0          0               2  22.927749        0   \n",
            "1   89       0          0               0  26.827681        0   \n",
            "2   73       0          3               1  17.795882        0   \n",
            "3   74       1          0               1  33.800817        1   \n",
            "4   89       0          0               0  20.716974        0   \n",
            "\n",
            "   AlcoholConsumption  PhysicalActivity  DietQuality  SleepQuality  ...  \\\n",
            "0           13.297218          6.327112     1.347214      9.025679  ...   \n",
            "1            4.542524          7.619885     0.518767      7.151293  ...   \n",
            "2           19.555085          7.844988     1.826335      9.673574  ...   \n",
            "3           12.209266          8.428001     7.435604      8.392554  ...   \n",
            "4           18.454356          6.310461     0.795498      5.597238  ...   \n",
            "\n",
            "   FunctionalAssessment  MemoryComplaints  BehavioralProblems       ADL  \\\n",
            "0              6.518877                 0                   0  1.725883   \n",
            "1              7.118696                 0                   0  2.592424   \n",
            "2              5.895077                 0                   0  7.119548   \n",
            "3              8.965106                 0                   1  6.481226   \n",
            "4              6.045039                 0                   0  0.014691   \n",
            "\n",
            "   Confusion  Disorientation  PersonalityChanges  DifficultyCompletingTasks  \\\n",
            "0          0               0                   0                          1   \n",
            "1          0               0                   0                          0   \n",
            "2          0               1                   0                          1   \n",
            "3          0               0                   0                          0   \n",
            "4          0               0                   1                          1   \n",
            "\n",
            "   Forgetfulness  Diagnosis  \n",
            "0              0          0  \n",
            "1              1          0  \n",
            "2              0          0  \n",
            "3              0          0  \n",
            "4              0          0  \n",
            "\n",
            "[5 rows x 33 columns]\n"
          ]
        }
      ],
      "source": [
        "# load the csv with patient data\n",
        "alzheimers_df = pd.read_csv(\"alzheimers_disease_data.csv\")\n",
        "\n",
        "# remove the doctor in charge and patient ID column\n",
        "alzheimers_df.drop(columns=['DoctorInCharge', 'PatientID'], inplace=True)\n",
        "\n",
        "print(alzheimers_df.head())"
      ]
    },
    {
      "cell_type": "markdown",
      "id": "b0eeb778",
      "metadata": {
        "id": "b0eeb778"
      },
      "source": [
        "**CHECK DATASET CHARACTERISTICS**"
      ]
    },
    {
      "cell_type": "code",
      "execution_count": 6,
      "id": "38500119",
      "metadata": {
        "colab": {
          "base_uri": "https://localhost:8080/"
        },
        "id": "38500119",
        "outputId": "f36a18ec-ea76-4c39-a97a-14b7bfaba403"
      },
      "outputs": [
        {
          "output_type": "stream",
          "name": "stdout",
          "text": [
            "Shape: (2149, 33)\n",
            "\n",
            "\n",
            "Total Null Values:\n",
            "Age                          0\n",
            "Gender                       0\n",
            "Ethnicity                    0\n",
            "EducationLevel               0\n",
            "BMI                          0\n",
            "Smoking                      0\n",
            "AlcoholConsumption           0\n",
            "PhysicalActivity             0\n",
            "DietQuality                  0\n",
            "SleepQuality                 0\n",
            "FamilyHistoryAlzheimers      0\n",
            "CardiovascularDisease        0\n",
            "Diabetes                     0\n",
            "Depression                   0\n",
            "HeadInjury                   0\n",
            "Hypertension                 0\n",
            "SystolicBP                   0\n",
            "DiastolicBP                  0\n",
            "CholesterolTotal             0\n",
            "CholesterolLDL               0\n",
            "CholesterolHDL               0\n",
            "CholesterolTriglycerides     0\n",
            "MMSE                         0\n",
            "FunctionalAssessment         0\n",
            "MemoryComplaints             0\n",
            "BehavioralProblems           0\n",
            "ADL                          0\n",
            "Confusion                    0\n",
            "Disorientation               0\n",
            "PersonalityChanges           0\n",
            "DifficultyCompletingTasks    0\n",
            "Forgetfulness                0\n",
            "Diagnosis                    0\n",
            "dtype: int64\n",
            "\n",
            "\n"
          ]
        }
      ],
      "source": [
        "print(f\"Shape: {alzheimers_df.shape}\\n\\n\")\n",
        "print(f\"Total Null Values:\\n{alzheimers_df.isnull().sum()}\\n\\n\")"
      ]
    },
    {
      "cell_type": "code",
      "execution_count": 7,
      "id": "736d87a7",
      "metadata": {
        "colab": {
          "base_uri": "https://localhost:8080/"
        },
        "id": "736d87a7",
        "outputId": "2b26053e-e45a-444b-86ca-90aacc4a11f3"
      },
      "outputs": [
        {
          "output_type": "stream",
          "name": "stdout",
          "text": [
            "Class Spreads:\n",
            "Diagnosis\n",
            "0    0.646347\n",
            "1    0.353653\n",
            "Name: proportion, dtype: float64\n",
            "\n",
            "\n",
            "Summary stats:\n",
            "               Age       Gender    Ethnicity  EducationLevel          BMI  \\\n",
            "count  2149.000000  2149.000000  2149.000000     2149.000000  2149.000000   \n",
            "mean     74.908795     0.506282     0.697534        1.286645    27.655697   \n",
            "std       8.990221     0.500077     0.996128        0.904527     7.217438   \n",
            "min      60.000000     0.000000     0.000000        0.000000    15.008851   \n",
            "25%      67.000000     0.000000     0.000000        1.000000    21.611408   \n",
            "50%      75.000000     1.000000     0.000000        1.000000    27.823924   \n",
            "75%      83.000000     1.000000     1.000000        2.000000    33.869778   \n",
            "max      90.000000     1.000000     3.000000        3.000000    39.992767   \n",
            "\n",
            "           Smoking  AlcoholConsumption  PhysicalActivity  DietQuality  \\\n",
            "count  2149.000000         2149.000000       2149.000000  2149.000000   \n",
            "mean      0.288506           10.039442          4.920202     4.993138   \n",
            "std       0.453173            5.757910          2.857191     2.909055   \n",
            "min       0.000000            0.002003          0.003616     0.009385   \n",
            "25%       0.000000            5.139810          2.570626     2.458455   \n",
            "50%       0.000000            9.934412          4.766424     5.076087   \n",
            "75%       1.000000           15.157931          7.427899     7.558625   \n",
            "max       1.000000           19.989293          9.987429     9.998346   \n",
            "\n",
            "       SleepQuality  ...  FunctionalAssessment  MemoryComplaints  \\\n",
            "count   2149.000000  ...           2149.000000       2149.000000   \n",
            "mean       7.051081  ...              5.080055          0.208004   \n",
            "std        1.763573  ...              2.892743          0.405974   \n",
            "min        4.002629  ...              0.000460          0.000000   \n",
            "25%        5.482997  ...              2.566281          0.000000   \n",
            "50%        7.115646  ...              5.094439          0.000000   \n",
            "75%        8.562521  ...              7.546981          0.000000   \n",
            "max        9.999840  ...              9.996467          1.000000   \n",
            "\n",
            "       BehavioralProblems          ADL    Confusion  Disorientation  \\\n",
            "count         2149.000000  2149.000000  2149.000000     2149.000000   \n",
            "mean             0.156817     4.982958     0.205212        0.158213   \n",
            "std              0.363713     2.949775     0.403950        0.365026   \n",
            "min              0.000000     0.001288     0.000000        0.000000   \n",
            "25%              0.000000     2.342836     0.000000        0.000000   \n",
            "50%              0.000000     5.038973     0.000000        0.000000   \n",
            "75%              0.000000     7.581490     0.000000        0.000000   \n",
            "max              1.000000     9.999747     1.000000        1.000000   \n",
            "\n",
            "       PersonalityChanges  DifficultyCompletingTasks  Forgetfulness  \\\n",
            "count         2149.000000                2149.000000    2149.000000   \n",
            "mean             0.150768                   0.158678       0.301536   \n",
            "std              0.357906                   0.365461       0.459032   \n",
            "min              0.000000                   0.000000       0.000000   \n",
            "25%              0.000000                   0.000000       0.000000   \n",
            "50%              0.000000                   0.000000       0.000000   \n",
            "75%              0.000000                   0.000000       1.000000   \n",
            "max              1.000000                   1.000000       1.000000   \n",
            "\n",
            "         Diagnosis  \n",
            "count  2149.000000  \n",
            "mean      0.353653  \n",
            "std       0.478214  \n",
            "min       0.000000  \n",
            "25%       0.000000  \n",
            "50%       0.000000  \n",
            "75%       1.000000  \n",
            "max       1.000000  \n",
            "\n",
            "[8 rows x 33 columns]\n",
            "\n",
            "\n"
          ]
        }
      ],
      "source": [
        "print(f\"Class Spreads:\\n{alzheimers_df['Diagnosis'].value_counts(normalize=True)}\\n\\n\")\n",
        "print(f\"Summary stats:\\n{alzheimers_df.describe()}\\n\\n\")"
      ]
    },
    {
      "cell_type": "markdown",
      "id": "5a621d6c",
      "metadata": {
        "id": "5a621d6c"
      },
      "source": [
        "**NORMALIZE COLUMNS**"
      ]
    },
    {
      "cell_type": "code",
      "execution_count": 8,
      "id": "c5707e1f",
      "metadata": {
        "colab": {
          "base_uri": "https://localhost:8080/"
        },
        "id": "c5707e1f",
        "outputId": "702f942b-feeb-4fec-b9af-2c922b67edc7"
      },
      "outputs": [
        {
          "output_type": "stream",
          "name": "stdout",
          "text": [
            "        Age  Gender  Ethnicity  EducationLevel       BMI  Smoking  \\\n",
            "0 -0.212368       0          0               2 -0.655225        0   \n",
            "1  1.567757       0          0               0 -0.114751        0   \n",
            "2 -0.212368       0          3               1 -1.366428        0   \n",
            "3 -0.101111       1          0               1  0.851625        1   \n",
            "4  1.567757       0          0               0 -0.961607        0   \n",
            "\n",
            "   AlcoholConsumption  PhysicalActivity  DietQuality  SleepQuality  ...  \\\n",
            "0            0.565923          0.492525    -1.253593      1.119918  ...   \n",
            "1           -0.954895          0.945093    -1.538442      0.056836  ...   \n",
            "2            1.653006          1.023896    -1.088855      1.487380  ...   \n",
            "3            0.376930          1.227995     0.839804      0.760833  ...   \n",
            "4            1.461793          0.486696    -1.443293     -0.824566  ...   \n",
            "\n",
            "   FunctionalAssessment  MemoryComplaints  BehavioralProblems       ADL  \\\n",
            "0              0.497506                 0                   0 -1.104434   \n",
            "1              0.704907                 0                   0 -0.810601   \n",
            "2              0.281813                 0                   0  0.724491   \n",
            "3              1.343346                 0                   1  0.508044   \n",
            "4              0.333665                 0                   0 -1.684679   \n",
            "\n",
            "   Confusion  Disorientation  PersonalityChanges  DifficultyCompletingTasks  \\\n",
            "0          0               0                   0                          1   \n",
            "1          0               0                   0                          0   \n",
            "2          0               1                   0                          1   \n",
            "3          0               0                   0                          0   \n",
            "4          0               0                   1                          1   \n",
            "\n",
            "   Forgetfulness  Diagnosis  \n",
            "0              0          0  \n",
            "1              1          0  \n",
            "2              0          0  \n",
            "3              0          0  \n",
            "4              0          0  \n",
            "\n",
            "[5 rows x 33 columns]\n"
          ]
        }
      ],
      "source": [
        "# want to normalize continous numeric columns\n",
        "columns_to_normalize = ['Age', 'BMI', 'AlcoholConsumption', 'PhysicalActivity', 'DietQuality',\n",
        "                        'SleepQuality', 'SystolicBP', 'DiastolicBP', 'CholesterolTotal',\n",
        "                        'CholesterolLDL', 'CholesterolHDL', 'CholesterolTriglycerides',\n",
        "                        'MMSE', 'FunctionalAssessment', 'ADL']\n",
        "\n",
        "# initialize standard scaler from sklearn\n",
        "scaler = StandardScaler()\n",
        "\n",
        "# normalize\n",
        "alzheimers_df_normalized = alzheimers_df\n",
        "alzheimers_df_normalized[columns_to_normalize] = scaler.fit_transform(alzheimers_df[columns_to_normalize])\n",
        "\n",
        "print(alzheimers_df_normalized.head())"
      ]
    },
    {
      "cell_type": "markdown",
      "id": "dbe7222d",
      "metadata": {
        "id": "dbe7222d"
      },
      "source": [
        "**SPLIT INTO FEATURES AND LABEL COLUMN**"
      ]
    },
    {
      "cell_type": "code",
      "execution_count": 9,
      "id": "4ddb024b",
      "metadata": {
        "id": "4ddb024b"
      },
      "outputs": [],
      "source": [
        "# label = diagnosis\n",
        "alzheimer_labels = alzheimers_df_normalized['Diagnosis'].to_numpy()\n",
        "\n",
        "# features are everything else\n",
        "alzheimer_features = alzheimers_df_normalized.drop(columns=['Diagnosis']).to_numpy()"
      ]
    },
    {
      "cell_type": "markdown",
      "id": "3e5d25e8",
      "metadata": {
        "id": "3e5d25e8"
      },
      "source": [
        "**SPLIT DATASET INTO TRAIN, TEST, AND VALIDATION**"
      ]
    },
    {
      "cell_type": "code",
      "execution_count": 10,
      "id": "f675cf1a",
      "metadata": {
        "id": "f675cf1a"
      },
      "outputs": [],
      "source": [
        "# use test size of 20%\n",
        "x_train, x_test, y_train, y_test = train_test_split(alzheimer_features, alzheimer_labels, test_size=0.2)"
      ]
    },
    {
      "cell_type": "markdown",
      "id": "3a73e234",
      "metadata": {
        "id": "3a73e234"
      },
      "source": [
        "**MODEL 1: LOGISTIC REGRESSION**"
      ]
    },
    {
      "cell_type": "code",
      "execution_count": 11,
      "id": "62a4f2ec",
      "metadata": {
        "colab": {
          "base_uri": "https://localhost:8080/"
        },
        "id": "62a4f2ec",
        "outputId": "08058e17-a7af-4034-9bf4-78f4fee3f86f"
      },
      "outputs": [
        {
          "output_type": "stream",
          "name": "stdout",
          "text": [
            "Logistic Regression Accuracy: 0.8534883720930233\n"
          ]
        }
      ],
      "source": [
        "# initialize model and fit\n",
        "lrg = LogisticRegression(C=0.5, max_iter=200)\n",
        "lrg.fit(x_train, y_train)\n",
        "\n",
        "# Predict on test set\n",
        "y_pred = lrg.predict(x_test)\n",
        "\n",
        "# Evaluate accuracy\n",
        "print(\"Logistic Regression Accuracy:\", accuracy_score(y_test, y_pred))"
      ]
    },
    {
      "cell_type": "markdown",
      "id": "c7750f56",
      "metadata": {
        "id": "c7750f56"
      },
      "source": [
        "**MODEL 2: NEURAL NET**"
      ]
    },
    {
      "cell_type": "code",
      "execution_count": 12,
      "id": "60045669",
      "metadata": {
        "colab": {
          "base_uri": "https://localhost:8080/"
        },
        "id": "60045669",
        "outputId": "86d055b6-ce8d-42aa-ef5a-b9ea4a87dcfb"
      },
      "outputs": [
        {
          "output_type": "stream",
          "name": "stderr",
          "text": [
            "/usr/local/lib/python3.11/dist-packages/keras/src/layers/core/dense.py:87: UserWarning: Do not pass an `input_shape`/`input_dim` argument to a layer. When using Sequential models, prefer using an `Input(shape)` object as the first layer in the model instead.\n",
            "  super().__init__(activity_regularizer=activity_regularizer, **kwargs)\n"
          ]
        },
        {
          "output_type": "stream",
          "name": "stdout",
          "text": [
            "Epoch 1/50\n",
            "\u001b[1m43/43\u001b[0m \u001b[32m━━━━━━━━━━━━━━━━━━━━\u001b[0m\u001b[37m\u001b[0m \u001b[1m9s\u001b[0m 114ms/step - accuracy: 0.5044 - loss: 0.8798 - val_accuracy: 0.6424 - val_loss: 0.7759\n",
            "Epoch 2/50\n",
            "\u001b[1m43/43\u001b[0m \u001b[32m━━━━━━━━━━━━━━━━━━━━\u001b[0m\u001b[37m\u001b[0m \u001b[1m0s\u001b[0m 4ms/step - accuracy: 0.6071 - loss: 0.7963 - val_accuracy: 0.6395 - val_loss: 0.7478\n",
            "Epoch 3/50\n",
            "\u001b[1m43/43\u001b[0m \u001b[32m━━━━━━━━━━━━━━━━━━━━\u001b[0m\u001b[37m\u001b[0m \u001b[1m0s\u001b[0m 4ms/step - accuracy: 0.6412 - loss: 0.7580 - val_accuracy: 0.7238 - val_loss: 0.6823\n",
            "Epoch 4/50\n",
            "\u001b[1m43/43\u001b[0m \u001b[32m━━━━━━━━━━━━━━━━━━━━\u001b[0m\u001b[37m\u001b[0m \u001b[1m0s\u001b[0m 4ms/step - accuracy: 0.7374 - loss: 0.6864 - val_accuracy: 0.7849 - val_loss: 0.6072\n",
            "Epoch 5/50\n",
            "\u001b[1m43/43\u001b[0m \u001b[32m━━━━━━━━━━━━━━━━━━━━\u001b[0m\u001b[37m\u001b[0m \u001b[1m0s\u001b[0m 4ms/step - accuracy: 0.7625 - loss: 0.6874 - val_accuracy: 0.7849 - val_loss: 0.5729\n",
            "Epoch 6/50\n",
            "\u001b[1m43/43\u001b[0m \u001b[32m━━━━━━━━━━━━━━━━━━━━\u001b[0m\u001b[37m\u001b[0m \u001b[1m0s\u001b[0m 4ms/step - accuracy: 0.7864 - loss: 0.6092 - val_accuracy: 0.8198 - val_loss: 0.5310\n",
            "Epoch 7/50\n",
            "\u001b[1m43/43\u001b[0m \u001b[32m━━━━━━━━━━━━━━━━━━━━\u001b[0m\u001b[37m\u001b[0m \u001b[1m0s\u001b[0m 4ms/step - accuracy: 0.8143 - loss: 0.5779 - val_accuracy: 0.8459 - val_loss: 0.5050\n",
            "Epoch 8/50\n",
            "\u001b[1m43/43\u001b[0m \u001b[32m━━━━━━━━━━━━━━━━━━━━\u001b[0m\u001b[37m\u001b[0m \u001b[1m0s\u001b[0m 4ms/step - accuracy: 0.8296 - loss: 0.5571 - val_accuracy: 0.8459 - val_loss: 0.4791\n",
            "Epoch 9/50\n",
            "\u001b[1m43/43\u001b[0m \u001b[32m━━━━━━━━━━━━━━━━━━━━\u001b[0m\u001b[37m\u001b[0m \u001b[1m0s\u001b[0m 4ms/step - accuracy: 0.8400 - loss: 0.5357 - val_accuracy: 0.8517 - val_loss: 0.4638\n",
            "Epoch 10/50\n",
            "\u001b[1m43/43\u001b[0m \u001b[32m━━━━━━━━━━━━━━━━━━━━\u001b[0m\u001b[37m\u001b[0m \u001b[1m0s\u001b[0m 4ms/step - accuracy: 0.8293 - loss: 0.5243 - val_accuracy: 0.8547 - val_loss: 0.4567\n",
            "Epoch 11/50\n",
            "\u001b[1m43/43\u001b[0m \u001b[32m━━━━━━━━━━━━━━━━━━━━\u001b[0m\u001b[37m\u001b[0m \u001b[1m0s\u001b[0m 4ms/step - accuracy: 0.8339 - loss: 0.5028 - val_accuracy: 0.8634 - val_loss: 0.4422\n",
            "Epoch 12/50\n",
            "\u001b[1m43/43\u001b[0m \u001b[32m━━━━━━━━━━━━━━━━━━━━\u001b[0m\u001b[37m\u001b[0m \u001b[1m0s\u001b[0m 4ms/step - accuracy: 0.8441 - loss: 0.5173 - val_accuracy: 0.8430 - val_loss: 0.4402\n",
            "Epoch 13/50\n",
            "\u001b[1m43/43\u001b[0m \u001b[32m━━━━━━━━━━━━━━━━━━━━\u001b[0m\u001b[37m\u001b[0m \u001b[1m0s\u001b[0m 4ms/step - accuracy: 0.8486 - loss: 0.4765 - val_accuracy: 0.8721 - val_loss: 0.4305\n",
            "Epoch 14/50\n",
            "\u001b[1m43/43\u001b[0m \u001b[32m━━━━━━━━━━━━━━━━━━━━\u001b[0m\u001b[37m\u001b[0m \u001b[1m0s\u001b[0m 4ms/step - accuracy: 0.8666 - loss: 0.4606 - val_accuracy: 0.8750 - val_loss: 0.4200\n",
            "Epoch 15/50\n",
            "\u001b[1m43/43\u001b[0m \u001b[32m━━━━━━━━━━━━━━━━━━━━\u001b[0m\u001b[37m\u001b[0m \u001b[1m0s\u001b[0m 4ms/step - accuracy: 0.8768 - loss: 0.4395 - val_accuracy: 0.8663 - val_loss: 0.4245\n",
            "Epoch 16/50\n",
            "\u001b[1m43/43\u001b[0m \u001b[32m━━━━━━━━━━━━━━━━━━━━\u001b[0m\u001b[37m\u001b[0m \u001b[1m0s\u001b[0m 4ms/step - accuracy: 0.8750 - loss: 0.4298 - val_accuracy: 0.8430 - val_loss: 0.4418\n",
            "Epoch 17/50\n",
            "\u001b[1m43/43\u001b[0m \u001b[32m━━━━━━━━━━━━━━━━━━━━\u001b[0m\u001b[37m\u001b[0m \u001b[1m0s\u001b[0m 4ms/step - accuracy: 0.8793 - loss: 0.4172 - val_accuracy: 0.8779 - val_loss: 0.4168\n",
            "Epoch 18/50\n",
            "\u001b[1m43/43\u001b[0m \u001b[32m━━━━━━━━━━━━━━━━━━━━\u001b[0m\u001b[37m\u001b[0m \u001b[1m0s\u001b[0m 4ms/step - accuracy: 0.8794 - loss: 0.4142 - val_accuracy: 0.8547 - val_loss: 0.4391\n",
            "Epoch 19/50\n",
            "\u001b[1m43/43\u001b[0m \u001b[32m━━━━━━━━━━━━━━━━━━━━\u001b[0m\u001b[37m\u001b[0m \u001b[1m0s\u001b[0m 4ms/step - accuracy: 0.8903 - loss: 0.3951 - val_accuracy: 0.8430 - val_loss: 0.4454\n",
            "Epoch 20/50\n",
            "\u001b[1m43/43\u001b[0m \u001b[32m━━━━━━━━━━━━━━━━━━━━\u001b[0m\u001b[37m\u001b[0m \u001b[1m0s\u001b[0m 4ms/step - accuracy: 0.8947 - loss: 0.4019 - val_accuracy: 0.8605 - val_loss: 0.4259\n",
            "Epoch 21/50\n",
            "\u001b[1m43/43\u001b[0m \u001b[32m━━━━━━━━━━━━━━━━━━━━\u001b[0m\u001b[37m\u001b[0m \u001b[1m0s\u001b[0m 4ms/step - accuracy: 0.9011 - loss: 0.3422 - val_accuracy: 0.8576 - val_loss: 0.4296\n",
            "Epoch 22/50\n",
            "\u001b[1m43/43\u001b[0m \u001b[32m━━━━━━━━━━━━━━━━━━━━\u001b[0m\u001b[37m\u001b[0m \u001b[1m0s\u001b[0m 4ms/step - accuracy: 0.8954 - loss: 0.3895 - val_accuracy: 0.8547 - val_loss: 0.4399\n",
            "Epoch 23/50\n",
            "\u001b[1m43/43\u001b[0m \u001b[32m━━━━━━━━━━━━━━━━━━━━\u001b[0m\u001b[37m\u001b[0m \u001b[1m0s\u001b[0m 4ms/step - accuracy: 0.9305 - loss: 0.3234 - val_accuracy: 0.8634 - val_loss: 0.4396\n",
            "Epoch 24/50\n",
            "\u001b[1m43/43\u001b[0m \u001b[32m━━━━━━━━━━━━━━━━━━━━\u001b[0m\u001b[37m\u001b[0m \u001b[1m0s\u001b[0m 4ms/step - accuracy: 0.8996 - loss: 0.3812 - val_accuracy: 0.8459 - val_loss: 0.4373\n",
            "Epoch 25/50\n",
            "\u001b[1m43/43\u001b[0m \u001b[32m━━━━━━━━━━━━━━━━━━━━\u001b[0m\u001b[37m\u001b[0m \u001b[1m0s\u001b[0m 4ms/step - accuracy: 0.9173 - loss: 0.3233 - val_accuracy: 0.8401 - val_loss: 0.4765\n",
            "Epoch 26/50\n",
            "\u001b[1m43/43\u001b[0m \u001b[32m━━━━━━━━━━━━━━━━━━━━\u001b[0m\u001b[37m\u001b[0m \u001b[1m0s\u001b[0m 4ms/step - accuracy: 0.9159 - loss: 0.3143 - val_accuracy: 0.8517 - val_loss: 0.4442\n",
            "Epoch 27/50\n",
            "\u001b[1m43/43\u001b[0m \u001b[32m━━━━━━━━━━━━━━━━━━━━\u001b[0m\u001b[37m\u001b[0m \u001b[1m0s\u001b[0m 4ms/step - accuracy: 0.9202 - loss: 0.3241 - val_accuracy: 0.8634 - val_loss: 0.4545\n"
          ]
        }
      ],
      "source": [
        "fnn = Sequential()\n",
        "fnn.add(Dense(128, input_shape=(x_train.shape[1],), activation='relu', kernel_regularizer=regularizers.l2(0.001)))\n",
        "fnn.add(Dropout(0.2))\n",
        "fnn.add(Dense(64, activation='relu', kernel_regularizer=regularizers.l2(0.001)))\n",
        "fnn.add(Dropout(0.3))\n",
        "fnn.add(Dense(32, activation='relu'))\n",
        "fnn.add(Dropout(0.4))\n",
        "fnn.add(Dense(16, activation='relu'))\n",
        "fnn.add(Dropout(0.5))\n",
        "fnn.add(Dense(1, activation='sigmoid'))\n",
        "\n",
        "fnn.compile(optimizer='adam', metrics=['accuracy'], loss='binary_crossentropy')\n",
        "early_stop = EarlyStopping(monitor='val_loss', patience=10, restore_best_weights=True)\n",
        "history = fnn.fit(x_train, y_train, epochs=50, validation_split=0.2, callbacks=[early_stop])"
      ]
    },
    {
      "cell_type": "code",
      "execution_count": 13,
      "id": "078e8a3a",
      "metadata": {
        "colab": {
          "base_uri": "https://localhost:8080/",
          "height": 507
        },
        "id": "078e8a3a",
        "outputId": "24dadfc9-12c9-45c6-dd9d-2eae7c00a5eb"
      },
      "outputs": [
        {
          "output_type": "display_data",
          "data": {
            "text/plain": [
              "<Figure size 1200x500 with 2 Axes>"
            ],
            "image/png": "[encoded data removed]"
          },
          "metadata": {}
        }
      ],
      "source": [
        "# plot training & validation loss\n",
        "plt.figure(figsize=(12, 5))\n",
        "\n",
        "# loss plot\n",
        "plt.subplot(1, 2, 1)\n",
        "plt.plot(history.history['loss'], label='Train Loss')\n",
        "plt.plot(history.history['val_loss'], label='Val Loss')\n",
        "plt.title('FNN Loss over Epochs')\n",
        "plt.xlabel('Epoch')\n",
        "plt.ylabel('Binary Crossentropy Loss')\n",
        "plt.legend()\n",
        "\n",
        "# accuracy plot\n",
        "plt.subplot(1, 2, 2)\n",
        "plt.plot(history.history['accuracy'], label='Train Accuracy')\n",
        "plt.plot(history.history['val_accuracy'], label='Val Accuracy')\n",
        "plt.title('FNN Accuracy over Epochs')\n",
        "plt.xlabel('Epoch')\n",
        "plt.ylabel('Accuracy')\n",
        "plt.legend()\n",
        "\n",
        "plt.tight_layout()\n",
        "plt.show()"
      ]
    },
    {
      "cell_type": "code",
      "execution_count": 14,
      "id": "8a435725",
      "metadata": {
        "colab": {
          "base_uri": "https://localhost:8080/",
          "height": 490
        },
        "id": "8a435725",
        "outputId": "12359804-ba58-4ee1-e4af-3617d36e7b56"
      },
      "outputs": [
        {
          "output_type": "stream",
          "name": "stdout",
          "text": [
            "\u001b[1m14/14\u001b[0m \u001b[32m━━━━━━━━━━━━━━━━━━━━\u001b[0m\u001b[37m\u001b[0m \u001b[1m1s\u001b[0m 66ms/step\n"
          ]
        },
        {
          "output_type": "display_data",
          "data": {
            "text/plain": [
              "<Figure size 640x480 with 2 Axes>"
            ],
            "image/png": "[encoded data removed]"
          },
          "metadata": {}
        }
      ],
      "source": [
        "# predict test data\n",
        "y_pred_prob = fnn.predict(x_test)\n",
        "y_pred = (y_pred_prob > 0.5).astype(int)\n",
        "\n",
        "# plot confusion matrix\n",
        "cm = confusion_matrix(y_test, y_pred)\n",
        "disp = ConfusionMatrixDisplay(confusion_matrix=cm)\n",
        "disp.plot(cmap=plt.cm.Blues)\n",
        "plt.title('FNN Confusion Matrix')\n",
        "plt.show()"
      ]
    },
    {
      "cell_type": "code",
      "execution_count": 15,
      "id": "b85cf6cf",
      "metadata": {
        "colab": {
          "base_uri": "https://localhost:8080/"
        },
        "id": "b85cf6cf",
        "outputId": "aaa5d69d-9624-483d-b817-cb5500e6116d"
      },
      "outputs": [
        {
          "output_type": "stream",
          "name": "stdout",
          "text": [
            "Accuracy for FNN: 0.8790697674418605\n"
          ]
        }
      ],
      "source": [
        "print(f\"Accuracy for FNN: {accuracy_score(y_test, y_pred)}\")"
      ]
    },
    {
      "cell_type": "markdown",
      "id": "8a160982",
      "metadata": {
        "id": "8a160982"
      },
      "source": [
        "**MODEL 3: RANDOM FOREST**"
      ]
    },
    {
      "cell_type": "code",
      "execution_count": 16,
      "id": "799d0655",
      "metadata": {
        "id": "799d0655"
      },
      "outputs": [],
      "source": [
        "# train random forest\n",
        "rf = RandomForestClassifier(n_estimators=500, random_state=42)\n",
        "history = rf.fit(x_train, y_train)"
      ]
    },
    {
      "cell_type": "code",
      "execution_count": 17,
      "id": "82f0c334",
      "metadata": {
        "colab": {
          "base_uri": "https://localhost:8080/",
          "height": 472
        },
        "id": "82f0c334",
        "outputId": "72e2b9d5-fb61-4108-8740-f1c0cad737dc"
      },
      "outputs": [
        {
          "output_type": "display_data",
          "data": {
            "text/plain": [
              "<Figure size 640x480 with 2 Axes>"
            ],
            "image/png": "[encoded data removed]"
          },
          "metadata": {}
        }
      ],
      "source": [
        "# predict on test set\n",
        "rf_preds = rf.predict(x_test)\n",
        "\n",
        "# plot confusion matrix\n",
        "cm = confusion_matrix(y_test, rf_preds)\n",
        "disp = ConfusionMatrixDisplay(confusion_matrix=cm)\n",
        "disp.plot(cmap=plt.cm.Blues)\n",
        "plt.title('Random Forest Confusion Matrix')\n",
        "plt.show()\n"
      ]
    },
    {
      "cell_type": "code",
      "execution_count": 18,
      "id": "54ae24ac",
      "metadata": {
        "colab": {
          "base_uri": "https://localhost:8080/"
        },
        "id": "54ae24ac",
        "outputId": "3ad0a3ef-1c29-4c7b-e114-e9a0f3f42ddf"
      },
      "outputs": [
        {
          "output_type": "stream",
          "name": "stdout",
          "text": [
            "Random Forest Accuracy: 0.9465116279069767\n"
          ]
        }
      ],
      "source": [
        "print(f\"Random Forest Accuracy: {accuracy_score(y_test, rf_preds)}\")"
      ]
    },
    {
      "cell_type": "markdown",
      "id": "43b05452",
      "metadata": {
        "id": "43b05452"
      },
      "source": [
        "**MODEL 4: XGBoost**"
      ]
    },
    {
      "cell_type": "code",
      "execution_count": 19,
      "id": "03f6b213",
      "metadata": {
        "colab": {
          "base_uri": "https://localhost:8080/",
          "height": 327
        },
        "id": "03f6b213",
        "outputId": "adf95492-51ea-4ae2-a24a-2ef11cdaed28"
      },
      "outputs": [
        {
          "output_type": "stream",
          "name": "stderr",
          "text": [
            "/usr/local/lib/python3.11/dist-packages/xgboost/core.py:158: UserWarning: [00:24:06] WARNING: /workspace/src/learner.cc:740: \n",
            "Parameters: { \"use_label_encoder\" } are not used.\n",
            "\n",
            "  warnings.warn(smsg, UserWarning)\n"
          ]
        },
        {
          "output_type": "execute_result",
          "data": {
            "text/plain": [
              "XGBClassifier(base_score=None, booster=None, callbacks=None,\n",
              "              colsample_bylevel=None, colsample_bynode=None,\n",
              "              colsample_bytree=None, device=None, early_stopping_rounds=None,\n",
              "              enable_categorical=False, eval_metric='logloss',\n",
              "              feature_types=None, gamma=None, grow_policy=None,\n",
              "              importance_type=None, interaction_constraints=None,\n",
              "              learning_rate=0.01, max_bin=None, max_cat_threshold=None,\n",
              "              max_cat_to_onehot=None, max_delta_step=None, max_depth=5,\n",
              "              max_leaves=None, min_child_weight=None, missing=nan,\n",
              "              monotone_constraints=None, multi_strategy=None, n_estimators=500,\n",
              "              n_jobs=None, num_parallel_tree=None, random_state=None, ...)"
            ],
            "text/html": [
              "<style>#sk-container-id-1 {\n",
              "  /* Definition of color scheme common for light and dark mode */\n",
              "  --sklearn-color-text: #000;\n",
              "  --sklearn-color-text-muted: #666;\n",
              "  --sklearn-color-line: gray;\n",
              "  /* Definition of color scheme for unfitted estimators */\n",
              "  --sklearn-color-unfitted-level-0: #fff5e6;\n",
              "  --sklearn-color-unfitted-level-1: #f6e4d2;\n",
              "  --sklearn-color-unfitted-level-2: #ffe0b3;\n",
              "  --sklearn-color-unfitted-level-3: chocolate;\n",
              "  /* Definition of color scheme for fitted estimators */\n",
              "  --sklearn-color-fitted-level-0: #f0f8ff;\n",
              "  --sklearn-color-fitted-level-1: #d4ebff;\n",
              "  --sklearn-color-fitted-level-2: #b3dbfd;\n",
              "  --sklearn-color-fitted-level-3: cornflowerblue;\n",
              "\n",
              "  /* Specific color for light theme */\n",
              "  --sklearn-color-text-on-default-background: var(--sg-text-color, var(--theme-code-foreground, var(--jp-content-font-color1, black)));\n",
              "  --sklearn-color-background: var(--sg-background-color, var(--theme-background, var(--jp-layout-color0, white)));\n",
              "  --sklearn-color-border-box: var(--sg-text-color, var(--theme-code-foreground, var(--jp-content-font-color1, black)));\n",
              "  --sklearn-color-icon: #696969;\n",
              "\n",
              "  @media (prefers-color-scheme: dark) {\n",
              "    /* Redefinition of color scheme for dark theme */\n",
              "    --sklearn-color-text-on-default-background: var(--sg-text-color, var(--theme-code-foreground, var(--jp-content-font-color1, white)));\n",
              "    --sklearn-color-background: var(--sg-background-color, var(--theme-background, var(--jp-layout-color0, #111)));\n",
              "    --sklearn-color-border-box: var(--sg-text-color, var(--theme-code-foreground, var(--jp-content-font-color1, white)));\n",
              "    --sklearn-color-icon: #878787;\n",
              "  }\n",
              "}\n",
              "\n",
              "#sk-container-id-1 {\n",
              "  color: var(--sklearn-color-text);\n",
              "}\n",
              "\n",
              "#sk-container-id-1 pre {\n",
              "  padding: 0;\n",
              "}\n",
              "\n",
              "#sk-container-id-1 input.sk-hidden--visually {\n",
              "  border: 0;\n",
              "  clip: rect(1px 1px 1px 1px);\n",
              "  clip: rect(1px, 1px, 1px, 1px);\n",
              "  height: 1px;\n",
              "  margin: -1px;\n",
              "  overflow: hidden;\n",
              "  padding: 0;\n",
              "  position: absolute;\n",
              "  width: 1px;\n",
              "}\n",
              "\n",
              "#sk-container-id-1 div.sk-dashed-wrapped {\n",
              "  border: 1px dashed var(--sklearn-color-line);\n",
              "  margin: 0 0.4em 0.5em 0.4em;\n",
              "  box-sizing: border-box;\n",
              "  padding-bottom: 0.4em;\n",
              "  background-color: var(--sklearn-color-background);\n",
              "}\n",
              "\n",
              "#sk-container-id-1 div.sk-container {\n",
              "  /* jupyter's `normalize.less` sets `[hidden] { display: none; }`\n",
              "     but bootstrap.min.css set `[hidden] { display: none !important; }`\n",
              "     so we also need the `!important` here to be able to override the\n",
              "     default hidden behavior on the sphinx rendered scikit-learn.org.\n",
              "     See: https://github.com/scikit-learn/scikit-learn/issues/21755 */\n",
              "  display: inline-block !important;\n",
              "  position: relative;\n",
              "}\n",
              "\n",
              "#sk-container-id-1 div.sk-text-repr-fallback {\n",
              "  display: none;\n",
              "}\n",
              "\n",
              "div.sk-parallel-item,\n",
              "div.sk-serial,\n",
              "div.sk-item {\n",
              "  /* draw centered vertical line to link estimators */\n",
              "  background-image: linear-gradient(var(--sklearn-color-text-on-default-background), var(--sklearn-color-text-on-default-background));\n",
              "  background-size: 2px 100%;\n",
              "  background-repeat: no-repeat;\n",
              "  background-position: center center;\n",
              "}\n",
              "\n",
              "/* Parallel-specific style estimator block */\n",
              "\n",
              "#sk-container-id-1 div.sk-parallel-item::after {\n",
              "  content: \"\";\n",
              "  width: 100%;\n",
              "  border-bottom: 2px solid var(--sklearn-color-text-on-default-background);\n",
              "  flex-grow: 1;\n",
              "}\n",
              "\n",
              "#sk-container-id-1 div.sk-parallel {\n",
              "  display: flex;\n",
              "  align-items: stretch;\n",
              "  justify-content: center;\n",
              "  background-color: var(--sklearn-color-background);\n",
              "  position: relative;\n",
              "}\n",
              "\n",
              "#sk-container-id-1 div.sk-parallel-item {\n",
              "  display: flex;\n",
              "  flex-direction: column;\n",
              "}\n",
              "\n",
              "#sk-container-id-1 div.sk-parallel-item:first-child::after {\n",
              "  align-self: flex-end;\n",
              "  width: 50%;\n",
              "}\n",
              "\n",
              "#sk-container-id-1 div.sk-parallel-item:last-child::after {\n",
              "  align-self: flex-start;\n",
              "  width: 50%;\n",
              "}\n",
              "\n",
              "#sk-container-id-1 div.sk-parallel-item:only-child::after {\n",
              "  width: 0;\n",
              "}\n",
              "\n",
              "/* Serial-specific style estimator block */\n",
              "\n",
              "#sk-container-id-1 div.sk-serial {\n",
              "  display: flex;\n",
              "  flex-direction: column;\n",
              "  align-items: center;\n",
              "  background-color: var(--sklearn-color-background);\n",
              "  padding-right: 1em;\n",
              "  padding-left: 1em;\n",
              "}\n",
              "\n",
              "\n",
              "/* Toggleable style: style used for estimator/Pipeline/ColumnTransformer box that is\n",
              "clickable and can be expanded/collapsed.\n",
              "- Pipeline and ColumnTransformer use this feature and define the default style\n",
              "- Estimators will overwrite some part of the style using the `sk-estimator` class\n",
              "*/\n",
              "\n",
              "/* Pipeline and ColumnTransformer style (default) */\n",
              "\n",
              "#sk-container-id-1 div.sk-toggleable {\n",
              "  /* Default theme specific background. It is overwritten whether we have a\n",
              "  specific estimator or a Pipeline/ColumnTransformer */\n",
              "  background-color: var(--sklearn-color-background);\n",
              "}\n",
              "\n",
              "/* Toggleable label */\n",
              "#sk-container-id-1 label.sk-toggleable__label {\n",
              "  cursor: pointer;\n",
              "  display: flex;\n",
              "  width: 100%;\n",
              "  margin-bottom: 0;\n",
              "  padding: 0.5em;\n",
              "  box-sizing: border-box;\n",
              "  text-align: center;\n",
              "  align-items: start;\n",
              "  justify-content: space-between;\n",
              "  gap: 0.5em;\n",
              "}\n",
              "\n",
              "#sk-container-id-1 label.sk-toggleable__label .caption {\n",
              "  font-size: 0.6rem;\n",
              "  font-weight: lighter;\n",
              "  color: var(--sklearn-color-text-muted);\n",
              "}\n",
              "\n",
              "#sk-container-id-1 label.sk-toggleable__label-arrow:before {\n",
              "  /* Arrow on the left of the label */\n",
              "  content: \"▸\";\n",
              "  float: left;\n",
              "  margin-right: 0.25em;\n",
              "  color: var(--sklearn-color-icon);\n",
              "}\n",
              "\n",
              "#sk-container-id-1 label.sk-toggleable__label-arrow:hover:before {\n",
              "  color: var(--sklearn-color-text);\n",
              "}\n",
              "\n",
              "/* Toggleable content - dropdown */\n",
              "\n",
              "#sk-container-id-1 div.sk-toggleable__content {\n",
              "  max-height: 0;\n",
              "  max-width: 0;\n",
              "  overflow: hidden;\n",
              "  text-align: left;\n",
              "  /* unfitted */\n",
              "  background-color: var(--sklearn-color-unfitted-level-0);\n",
              "}\n",
              "\n",
              "#sk-container-id-1 div.sk-toggleable__content.fitted {\n",
              "  /* fitted */\n",
              "  background-color: var(--sklearn-color-fitted-level-0);\n",
              "}\n",
              "\n",
              "#sk-container-id-1 div.sk-toggleable__content pre {\n",
              "  margin: 0.2em;\n",
              "  border-radius: 0.25em;\n",
              "  color: var(--sklearn-color-text);\n",
              "  /* unfitted */\n",
              "  background-color: var(--sklearn-color-unfitted-level-0);\n",
              "}\n",
              "\n",
              "#sk-container-id-1 div.sk-toggleable__content.fitted pre {\n",
              "  /* unfitted */\n",
              "  background-color: var(--sklearn-color-fitted-level-0);\n",
              "}\n",
              "\n",
              "#sk-container-id-1 input.sk-toggleable__control:checked~div.sk-toggleable__content {\n",
              "  /* Expand drop-down */\n",
              "  max-height: 200px;\n",
              "  max-width: 100%;\n",
              "  overflow: auto;\n",
              "}\n",
              "\n",
              "#sk-container-id-1 input.sk-toggleable__control:checked~label.sk-toggleable__label-arrow:before {\n",
              "  content: \"▾\";\n",
              "}\n",
              "\n",
              "/* Pipeline/ColumnTransformer-specific style */\n",
              "\n",
              "#sk-container-id-1 div.sk-label input.sk-toggleable__control:checked~label.sk-toggleable__label {\n",
              "  color: var(--sklearn-color-text);\n",
              "  background-color: var(--sklearn-color-unfitted-level-2);\n",
              "}\n",
              "\n",
              "#sk-container-id-1 div.sk-label.fitted input.sk-toggleable__control:checked~label.sk-toggleable__label {\n",
              "  background-color: var(--sklearn-color-fitted-level-2);\n",
              "}\n",
              "\n",
              "/* Estimator-specific style */\n",
              "\n",
              "/* Colorize estimator box */\n",
              "#sk-container-id-1 div.sk-estimator input.sk-toggleable__control:checked~label.sk-toggleable__label {\n",
              "  /* unfitted */\n",
              "  background-color: var(--sklearn-color-unfitted-level-2);\n",
              "}\n",
              "\n",
              "#sk-container-id-1 div.sk-estimator.fitted input.sk-toggleable__control:checked~label.sk-toggleable__label {\n",
              "  /* fitted */\n",
              "  background-color: var(--sklearn-color-fitted-level-2);\n",
              "}\n",
              "\n",
              "#sk-container-id-1 div.sk-label label.sk-toggleable__label,\n",
              "#sk-container-id-1 div.sk-label label {\n",
              "  /* The background is the default theme color */\n",
              "  color: var(--sklearn-color-text-on-default-background);\n",
              "}\n",
              "\n",
              "/* On hover, darken the color of the background */\n",
              "#sk-container-id-1 div.sk-label:hover label.sk-toggleable__label {\n",
              "  color: var(--sklearn-color-text);\n",
              "  background-color: var(--sklearn-color-unfitted-level-2);\n",
              "}\n",
              "\n",
              "/* Label box, darken color on hover, fitted */\n",
              "#sk-container-id-1 div.sk-label.fitted:hover label.sk-toggleable__label.fitted {\n",
              "  color: var(--sklearn-color-text);\n",
              "  background-color: var(--sklearn-color-fitted-level-2);\n",
              "}\n",
              "\n",
              "/* Estimator label */\n",
              "\n",
              "#sk-container-id-1 div.sk-label label {\n",
              "  font-family: monospace;\n",
              "  font-weight: bold;\n",
              "  display: inline-block;\n",
              "  line-height: 1.2em;\n",
              "}\n",
              "\n",
              "#sk-container-id-1 div.sk-label-container {\n",
              "  text-align: center;\n",
              "}\n",
              "\n",
              "/* Estimator-specific */\n",
              "#sk-container-id-1 div.sk-estimator {\n",
              "  font-family: monospace;\n",
              "  border: 1px dotted var(--sklearn-color-border-box);\n",
              "  border-radius: 0.25em;\n",
              "  box-sizing: border-box;\n",
              "  margin-bottom: 0.5em;\n",
              "  /* unfitted */\n",
              "  background-color: var(--sklearn-color-unfitted-level-0);\n",
              "}\n",
              "\n",
              "#sk-container-id-1 div.sk-estimator.fitted {\n",
              "  /* fitted */\n",
              "  background-color: var(--sklearn-color-fitted-level-0);\n",
              "}\n",
              "\n",
              "/* on hover */\n",
              "#sk-container-id-1 div.sk-estimator:hover {\n",
              "  /* unfitted */\n",
              "  background-color: var(--sklearn-color-unfitted-level-2);\n",
              "}\n",
              "\n",
              "#sk-container-id-1 div.sk-estimator.fitted:hover {\n",
              "  /* fitted */\n",
              "  background-color: var(--sklearn-color-fitted-level-2);\n",
              "}\n",
              "\n",
              "/* Specification for estimator info (e.g. \"i\" and \"?\") */\n",
              "\n",
              "/* Common style for \"i\" and \"?\" */\n",
              "\n",
              ".sk-estimator-doc-link,\n",
              "a:link.sk-estimator-doc-link,\n",
              "a:visited.sk-estimator-doc-link {\n",
              "  float: right;\n",
              "  font-size: smaller;\n",
              "  line-height: 1em;\n",
              "  font-family: monospace;\n",
              "  background-color: var(--sklearn-color-background);\n",
              "  border-radius: 1em;\n",
              "  height: 1em;\n",
              "  width: 1em;\n",
              "  text-decoration: none !important;\n",
              "  margin-left: 0.5em;\n",
              "  text-align: center;\n",
              "  /* unfitted */\n",
              "  border: var(--sklearn-color-unfitted-level-1) 1pt solid;\n",
              "  color: var(--sklearn-color-unfitted-level-1);\n",
              "}\n",
              "\n",
              ".sk-estimator-doc-link.fitted,\n",
              "a:link.sk-estimator-doc-link.fitted,\n",
              "a:visited.sk-estimator-doc-link.fitted {\n",
              "  /* fitted */\n",
              "  border: var(--sklearn-color-fitted-level-1) 1pt solid;\n",
              "  color: var(--sklearn-color-fitted-level-1);\n",
              "}\n",
              "\n",
              "/* On hover */\n",
              "div.sk-estimator:hover .sk-estimator-doc-link:hover,\n",
              ".sk-estimator-doc-link:hover,\n",
              "div.sk-label-container:hover .sk-estimator-doc-link:hover,\n",
              ".sk-estimator-doc-link:hover {\n",
              "  /* unfitted */\n",
              "  background-color: var(--sklearn-color-unfitted-level-3);\n",
              "  color: var(--sklearn-color-background);\n",
              "  text-decoration: none;\n",
              "}\n",
              "\n",
              "div.sk-estimator.fitted:hover .sk-estimator-doc-link.fitted:hover,\n",
              ".sk-estimator-doc-link.fitted:hover,\n",
              "div.sk-label-container:hover .sk-estimator-doc-link.fitted:hover,\n",
              ".sk-estimator-doc-link.fitted:hover {\n",
              "  /* fitted */\n",
              "  background-color: var(--sklearn-color-fitted-level-3);\n",
              "  color: var(--sklearn-color-background);\n",
              "  text-decoration: none;\n",
              "}\n",
              "\n",
              "/* Span, style for the box shown on hovering the info icon */\n",
              ".sk-estimator-doc-link span {\n",
              "  display: none;\n",
              "  z-index: 9999;\n",
              "  position: relative;\n",
              "  font-weight: normal;\n",
              "  right: .2ex;\n",
              "  padding: .5ex;\n",
              "  margin: .5ex;\n",
              "  width: min-content;\n",
              "  min-width: 20ex;\n",
              "  max-width: 50ex;\n",
              "  color: var(--sklearn-color-text);\n",
              "  box-shadow: 2pt 2pt 4pt #999;\n",
              "  /* unfitted */\n",
              "  background: var(--sklearn-color-unfitted-level-0);\n",
              "  border: .5pt solid var(--sklearn-color-unfitted-level-3);\n",
              "}\n",
              "\n",
              ".sk-estimator-doc-link.fitted span {\n",
              "  /* fitted */\n",
              "  background: var(--sklearn-color-fitted-level-0);\n",
              "  border: var(--sklearn-color-fitted-level-3);\n",
              "}\n",
              "\n",
              ".sk-estimator-doc-link:hover span {\n",
              "  display: block;\n",
              "}\n",
              "\n",
              "/* \"?\"-specific style due to the `<a>` HTML tag */\n",
              "\n",
              "#sk-container-id-1 a.estimator_doc_link {\n",
              "  float: right;\n",
              "  font-size: 1rem;\n",
              "  line-height: 1em;\n",
              "  font-family: monospace;\n",
              "  background-color: var(--sklearn-color-background);\n",
              "  border-radius: 1rem;\n",
              "  height: 1rem;\n",
              "  width: 1rem;\n",
              "  text-decoration: none;\n",
              "  /* unfitted */\n",
              "  color: var(--sklearn-color-unfitted-level-1);\n",
              "  border: var(--sklearn-color-unfitted-level-1) 1pt solid;\n",
              "}\n",
              "\n",
              "#sk-container-id-1 a.estimator_doc_link.fitted {\n",
              "  /* fitted */\n",
              "  border: var(--sklearn-color-fitted-level-1) 1pt solid;\n",
              "  color: var(--sklearn-color-fitted-level-1);\n",
              "}\n",
              "\n",
              "/* On hover */\n",
              "#sk-container-id-1 a.estimator_doc_link:hover {\n",
              "  /* unfitted */\n",
              "  background-color: var(--sklearn-color-unfitted-level-3);\n",
              "  color: var(--sklearn-color-background);\n",
              "  text-decoration: none;\n",
              "}\n",
              "\n",
              "#sk-container-id-1 a.estimator_doc_link.fitted:hover {\n",
              "  /* fitted */\n",
              "  background-color: var(--sklearn-color-fitted-level-3);\n",
              "}\n",
              "</style><div id=\"sk-container-id-1\" class=\"sk-top-container\"><div class=\"sk-text-repr-fallback\"><pre>XGBClassifier(base_score=None, booster=None, callbacks=None,\n",
              "              colsample_bylevel=None, colsample_bynode=None,\n",
              "              colsample_bytree=None, device=None, early_stopping_rounds=None,\n",
              "              enable_categorical=False, eval_metric=&#x27;logloss&#x27;,\n",
              "              feature_types=None, gamma=None, grow_policy=None,\n",
              "              importance_type=None, interaction_constraints=None,\n",
              "              learning_rate=0.01, max_bin=None, max_cat_threshold=None,\n",
              "              max_cat_to_onehot=None, max_delta_step=None, max_depth=5,\n",
              "              max_leaves=None, min_child_weight=None, missing=nan,\n",
              "              monotone_constraints=None, multi_strategy=None, n_estimators=500,\n",
              "              n_jobs=None, num_parallel_tree=None, random_state=None, ...)</pre><b>In a Jupyter environment, please rerun this cell to show the HTML representation or trust the notebook. <br />On GitHub, the HTML representation is unable to render, please try loading this page with nbviewer.org.</b></div><div class=\"sk-container\" hidden><div class=\"sk-item\"><div class=\"sk-estimator fitted sk-toggleable\"><input class=\"sk-toggleable__control sk-hidden--visually\" id=\"sk-estimator-id-1\" type=\"checkbox\" checked><label for=\"sk-estimator-id-1\" class=\"sk-toggleable__label fitted sk-toggleable__label-arrow\"><div><div>XGBClassifier</div></div><div><span class=\"sk-estimator-doc-link fitted\">i<span>Fitted</span></span></div></label><div class=\"sk-toggleable__content fitted\"><pre>XGBClassifier(base_score=None, booster=None, callbacks=None,\n",
              "              colsample_bylevel=None, colsample_bynode=None,\n",
              "              colsample_bytree=None, device=None, early_stopping_rounds=None,\n",
              "              enable_categorical=False, eval_metric=&#x27;logloss&#x27;,\n",
              "              feature_types=None, gamma=None, grow_policy=None,\n",
              "              importance_type=None, interaction_constraints=None,\n",
              "              learning_rate=0.01, max_bin=None, max_cat_threshold=None,\n",
              "              max_cat_to_onehot=None, max_delta_step=None, max_depth=5,\n",
              "              max_leaves=None, min_child_weight=None, missing=nan,\n",
              "              monotone_constraints=None, multi_strategy=None, n_estimators=500,\n",
              "              n_jobs=None, num_parallel_tree=None, random_state=None, ...)</pre></div> </div></div></div></div>"
            ]
          },
          "metadata": {},
          "execution_count": 19
        }
      ],
      "source": [
        "# train xgb\n",
        "xgb = XGBClassifier(n_estimators=500, max_depth=5, use_label_encoder=False, eval_metric='logloss', learning_rate=0.01)\n",
        "xgb.fit(x_train, y_train)"
      ]
    },
    {
      "cell_type": "code",
      "execution_count": 20,
      "id": "c40a9564",
      "metadata": {
        "colab": {
          "base_uri": "https://localhost:8080/",
          "height": 472
        },
        "id": "c40a9564",
        "outputId": "0c4d58cb-b8ba-4955-e8b6-ff965f2607f2"
      },
      "outputs": [
        {
          "output_type": "display_data",
          "data": {
            "text/plain": [
              "<Figure size 640x480 with 2 Axes>"
            ],
            "image/png": "[encoded data removed]"
          },
          "metadata": {}
        }
      ],
      "source": [
        "# get predictions on test set\n",
        "xgb_preds = xgb.predict(x_test)\n",
        "\n",
        "# plot confusion matrix\n",
        "cm = confusion_matrix(y_test, xgb_preds)\n",
        "disp = ConfusionMatrixDisplay(confusion_matrix=cm)\n",
        "disp.plot(cmap=plt.cm.Blues)\n",
        "plt.title('Random Forest Confusion Matrix')\n",
        "plt.show()\n"
      ]
    },
    {
      "cell_type": "code",
      "execution_count": 21,
      "id": "275335ae",
      "metadata": {
        "colab": {
          "base_uri": "https://localhost:8080/"
        },
        "id": "275335ae",
        "outputId": "0bf6390a-b418-46a8-f1a5-7e55b5d17f34"
      },
      "outputs": [
        {
          "output_type": "stream",
          "name": "stdout",
          "text": [
            "XGBoost Accuracy: 0.958139534883721\n"
          ]
        }
      ],
      "source": [
        "print(f\"XGBoost Accuracy: {accuracy_score(y_test, xgb_preds)}\")"
      ]
    },
    {
      "cell_type": "markdown",
      "id": "68b4b9b8",
      "metadata": {
        "id": "68b4b9b8"
      },
      "source": [
        "**MODEL 5: SVM**"
      ]
    },
    {
      "cell_type": "code",
      "execution_count": 22,
      "id": "0c7a8b99",
      "metadata": {
        "colab": {
          "base_uri": "https://localhost:8080/"
        },
        "id": "0c7a8b99",
        "outputId": "d3413ffc-a357-47f3-f057-b8de54e2eae8"
      },
      "outputs": [
        {
          "output_type": "stream",
          "name": "stdout",
          "text": [
            "Best params: {'C': 10, 'gamma': 0.01, 'kernel': 'rbf'}\n",
            "Best accuracy: 0.8458454810495628\n"
          ]
        }
      ],
      "source": [
        "# grid search to find best hyperparameters\n",
        "parameters_grid = {\n",
        "    'C': [0.01, 0.1, 1, 10, 100],\n",
        "    'kernel': ['linear', 'rbf', 'poly'],\n",
        "    'gamma': ['scale', 'auto', 0.001, 0.01, 0.1]\n",
        "}\n",
        "\n",
        "grid = GridSearchCV(SVC(), parameters_grid, cv=5, scoring='accuracy')\n",
        "grid.fit(x_train, y_train)\n",
        "\n",
        "print(\"Best params:\", grid.best_params_)\n",
        "print(\"Best accuracy:\", grid.best_score_)"
      ]
    },
    {
      "cell_type": "code",
      "execution_count": 23,
      "id": "238ad277",
      "metadata": {
        "colab": {
          "base_uri": "https://localhost:8080/",
          "height": 80
        },
        "id": "238ad277",
        "outputId": "5f948ab7-184c-4847-c5d6-3abeb900eb62"
      },
      "outputs": [
        {
          "output_type": "execute_result",
          "data": {
            "text/plain": [
              "SVC(C=100, gamma=0.001)"
            ],
            "text/html": [
              "<style>#sk-container-id-2 {\n",
              "  /* Definition of color scheme common for light and dark mode */\n",
              "  --sklearn-color-text: #000;\n",
              "  --sklearn-color-text-muted: #666;\n",
              "  --sklearn-color-line: gray;\n",
              "  /* Definition of color scheme for unfitted estimators */\n",
              "  --sklearn-color-unfitted-level-0: #fff5e6;\n",
              "  --sklearn-color-unfitted-level-1: #f6e4d2;\n",
              "  --sklearn-color-unfitted-level-2: #ffe0b3;\n",
              "  --sklearn-color-unfitted-level-3: chocolate;\n",
              "  /* Definition of color scheme for fitted estimators */\n",
              "  --sklearn-color-fitted-level-0: #f0f8ff;\n",
              "  --sklearn-color-fitted-level-1: #d4ebff;\n",
              "  --sklearn-color-fitted-level-2: #b3dbfd;\n",
              "  --sklearn-color-fitted-level-3: cornflowerblue;\n",
              "\n",
              "  /* Specific color for light theme */\n",
              "  --sklearn-color-text-on-default-background: var(--sg-text-color, var(--theme-code-foreground, var(--jp-content-font-color1, black)));\n",
              "  --sklearn-color-background: var(--sg-background-color, var(--theme-background, var(--jp-layout-color0, white)));\n",
              "  --sklearn-color-border-box: var(--sg-text-color, var(--theme-code-foreground, var(--jp-content-font-color1, black)));\n",
              "  --sklearn-color-icon: #696969;\n",
              "\n",
              "  @media (prefers-color-scheme: dark) {\n",
              "    /* Redefinition of color scheme for dark theme */\n",
              "    --sklearn-color-text-on-default-background: var(--sg-text-color, var(--theme-code-foreground, var(--jp-content-font-color1, white)));\n",
              "    --sklearn-color-background: var(--sg-background-color, var(--theme-background, var(--jp-layout-color0, #111)));\n",
              "    --sklearn-color-border-box: var(--sg-text-color, var(--theme-code-foreground, var(--jp-content-font-color1, white)));\n",
              "    --sklearn-color-icon: #878787;\n",
              "  }\n",
              "}\n",
              "\n",
              "#sk-container-id-2 {\n",
              "  color: var(--sklearn-color-text);\n",
              "}\n",
              "\n",
              "#sk-container-id-2 pre {\n",
              "  padding: 0;\n",
              "}\n",
              "\n",
              "#sk-container-id-2 input.sk-hidden--visually {\n",
              "  border: 0;\n",
              "  clip: rect(1px 1px 1px 1px);\n",
              "  clip: rect(1px, 1px, 1px, 1px);\n",
              "  height: 1px;\n",
              "  margin: -1px;\n",
              "  overflow: hidden;\n",
              "  padding: 0;\n",
              "  position: absolute;\n",
              "  width: 1px;\n",
              "}\n",
              "\n",
              "#sk-container-id-2 div.sk-dashed-wrapped {\n",
              "  border: 1px dashed var(--sklearn-color-line);\n",
              "  margin: 0 0.4em 0.5em 0.4em;\n",
              "  box-sizing: border-box;\n",
              "  padding-bottom: 0.4em;\n",
              "  background-color: var(--sklearn-color-background);\n",
              "}\n",
              "\n",
              "#sk-container-id-2 div.sk-container {\n",
              "  /* jupyter's `normalize.less` sets `[hidden] { display: none; }`\n",
              "     but bootstrap.min.css set `[hidden] { display: none !important; }`\n",
              "     so we also need the `!important` here to be able to override the\n",
              "     default hidden behavior on the sphinx rendered scikit-learn.org.\n",
              "     See: https://github.com/scikit-learn/scikit-learn/issues/21755 */\n",
              "  display: inline-block !important;\n",
              "  position: relative;\n",
              "}\n",
              "\n",
              "#sk-container-id-2 div.sk-text-repr-fallback {\n",
              "  display: none;\n",
              "}\n",
              "\n",
              "div.sk-parallel-item,\n",
              "div.sk-serial,\n",
              "div.sk-item {\n",
              "  /* draw centered vertical line to link estimators */\n",
              "  background-image: linear-gradient(var(--sklearn-color-text-on-default-background), var(--sklearn-color-text-on-default-background));\n",
              "  background-size: 2px 100%;\n",
              "  background-repeat: no-repeat;\n",
              "  background-position: center center;\n",
              "}\n",
              "\n",
              "/* Parallel-specific style estimator block */\n",
              "\n",
              "#sk-container-id-2 div.sk-parallel-item::after {\n",
              "  content: \"\";\n",
              "  width: 100%;\n",
              "  border-bottom: 2px solid var(--sklearn-color-text-on-default-background);\n",
              "  flex-grow: 1;\n",
              "}\n",
              "\n",
              "#sk-container-id-2 div.sk-parallel {\n",
              "  display: flex;\n",
              "  align-items: stretch;\n",
              "  justify-content: center;\n",
              "  background-color: var(--sklearn-color-background);\n",
              "  position: relative;\n",
              "}\n",
              "\n",
              "#sk-container-id-2 div.sk-parallel-item {\n",
              "  display: flex;\n",
              "  flex-direction: column;\n",
              "}\n",
              "\n",
              "#sk-container-id-2 div.sk-parallel-item:first-child::after {\n",
              "  align-self: flex-end;\n",
              "  width: 50%;\n",
              "}\n",
              "\n",
              "#sk-container-id-2 div.sk-parallel-item:last-child::after {\n",
              "  align-self: flex-start;\n",
              "  width: 50%;\n",
              "}\n",
              "\n",
              "#sk-container-id-2 div.sk-parallel-item:only-child::after {\n",
              "  width: 0;\n",
              "}\n",
              "\n",
              "/* Serial-specific style estimator block */\n",
              "\n",
              "#sk-container-id-2 div.sk-serial {\n",
              "  display: flex;\n",
              "  flex-direction: column;\n",
              "  align-items: center;\n",
              "  background-color: var(--sklearn-color-background);\n",
              "  padding-right: 1em;\n",
              "  padding-left: 1em;\n",
              "}\n",
              "\n",
              "\n",
              "/* Toggleable style: style used for estimator/Pipeline/ColumnTransformer box that is\n",
              "clickable and can be expanded/collapsed.\n",
              "- Pipeline and ColumnTransformer use this feature and define the default style\n",
              "- Estimators will overwrite some part of the style using the `sk-estimator` class\n",
              "*/\n",
              "\n",
              "/* Pipeline and ColumnTransformer style (default) */\n",
              "\n",
              "#sk-container-id-2 div.sk-toggleable {\n",
              "  /* Default theme specific background. It is overwritten whether we have a\n",
              "  specific estimator or a Pipeline/ColumnTransformer */\n",
              "  background-color: var(--sklearn-color-background);\n",
              "}\n",
              "\n",
              "/* Toggleable label */\n",
              "#sk-container-id-2 label.sk-toggleable__label {\n",
              "  cursor: pointer;\n",
              "  display: flex;\n",
              "  width: 100%;\n",
              "  margin-bottom: 0;\n",
              "  padding: 0.5em;\n",
              "  box-sizing: border-box;\n",
              "  text-align: center;\n",
              "  align-items: start;\n",
              "  justify-content: space-between;\n",
              "  gap: 0.5em;\n",
              "}\n",
              "\n",
              "#sk-container-id-2 label.sk-toggleable__label .caption {\n",
              "  font-size: 0.6rem;\n",
              "  font-weight: lighter;\n",
              "  color: var(--sklearn-color-text-muted);\n",
              "}\n",
              "\n",
              "#sk-container-id-2 label.sk-toggleable__label-arrow:before {\n",
              "  /* Arrow on the left of the label */\n",
              "  content: \"▸\";\n",
              "  float: left;\n",
              "  margin-right: 0.25em;\n",
              "  color: var(--sklearn-color-icon);\n",
              "}\n",
              "\n",
              "#sk-container-id-2 label.sk-toggleable__label-arrow:hover:before {\n",
              "  color: var(--sklearn-color-text);\n",
              "}\n",
              "\n",
              "/* Toggleable content - dropdown */\n",
              "\n",
              "#sk-container-id-2 div.sk-toggleable__content {\n",
              "  max-height: 0;\n",
              "  max-width: 0;\n",
              "  overflow: hidden;\n",
              "  text-align: left;\n",
              "  /* unfitted */\n",
              "  background-color: var(--sklearn-color-unfitted-level-0);\n",
              "}\n",
              "\n",
              "#sk-container-id-2 div.sk-toggleable__content.fitted {\n",
              "  /* fitted */\n",
              "  background-color: var(--sklearn-color-fitted-level-0);\n",
              "}\n",
              "\n",
              "#sk-container-id-2 div.sk-toggleable__content pre {\n",
              "  margin: 0.2em;\n",
              "  border-radius: 0.25em;\n",
              "  color: var(--sklearn-color-text);\n",
              "  /* unfitted */\n",
              "  background-color: var(--sklearn-color-unfitted-level-0);\n",
              "}\n",
              "\n",
              "#sk-container-id-2 div.sk-toggleable__content.fitted pre {\n",
              "  /* unfitted */\n",
              "  background-color: var(--sklearn-color-fitted-level-0);\n",
              "}\n",
              "\n",
              "#sk-container-id-2 input.sk-toggleable__control:checked~div.sk-toggleable__content {\n",
              "  /* Expand drop-down */\n",
              "  max-height: 200px;\n",
              "  max-width: 100%;\n",
              "  overflow: auto;\n",
              "}\n",
              "\n",
              "#sk-container-id-2 input.sk-toggleable__control:checked~label.sk-toggleable__label-arrow:before {\n",
              "  content: \"▾\";\n",
              "}\n",
              "\n",
              "/* Pipeline/ColumnTransformer-specific style */\n",
              "\n",
              "#sk-container-id-2 div.sk-label input.sk-toggleable__control:checked~label.sk-toggleable__label {\n",
              "  color: var(--sklearn-color-text);\n",
              "  background-color: var(--sklearn-color-unfitted-level-2);\n",
              "}\n",
              "\n",
              "#sk-container-id-2 div.sk-label.fitted input.sk-toggleable__control:checked~label.sk-toggleable__label {\n",
              "  background-color: var(--sklearn-color-fitted-level-2);\n",
              "}\n",
              "\n",
              "/* Estimator-specific style */\n",
              "\n",
              "/* Colorize estimator box */\n",
              "#sk-container-id-2 div.sk-estimator input.sk-toggleable__control:checked~label.sk-toggleable__label {\n",
              "  /* unfitted */\n",
              "  background-color: var(--sklearn-color-unfitted-level-2);\n",
              "}\n",
              "\n",
              "#sk-container-id-2 div.sk-estimator.fitted input.sk-toggleable__control:checked~label.sk-toggleable__label {\n",
              "  /* fitted */\n",
              "  background-color: var(--sklearn-color-fitted-level-2);\n",
              "}\n",
              "\n",
              "#sk-container-id-2 div.sk-label label.sk-toggleable__label,\n",
              "#sk-container-id-2 div.sk-label label {\n",
              "  /* The background is the default theme color */\n",
              "  color: var(--sklearn-color-text-on-default-background);\n",
              "}\n",
              "\n",
              "/* On hover, darken the color of the background */\n",
              "#sk-container-id-2 div.sk-label:hover label.sk-toggleable__label {\n",
              "  color: var(--sklearn-color-text);\n",
              "  background-color: var(--sklearn-color-unfitted-level-2);\n",
              "}\n",
              "\n",
              "/* Label box, darken color on hover, fitted */\n",
              "#sk-container-id-2 div.sk-label.fitted:hover label.sk-toggleable__label.fitted {\n",
              "  color: var(--sklearn-color-text);\n",
              "  background-color: var(--sklearn-color-fitted-level-2);\n",
              "}\n",
              "\n",
              "/* Estimator label */\n",
              "\n",
              "#sk-container-id-2 div.sk-label label {\n",
              "  font-family: monospace;\n",
              "  font-weight: bold;\n",
              "  display: inline-block;\n",
              "  line-height: 1.2em;\n",
              "}\n",
              "\n",
              "#sk-container-id-2 div.sk-label-container {\n",
              "  text-align: center;\n",
              "}\n",
              "\n",
              "/* Estimator-specific */\n",
              "#sk-container-id-2 div.sk-estimator {\n",
              "  font-family: monospace;\n",
              "  border: 1px dotted var(--sklearn-color-border-box);\n",
              "  border-radius: 0.25em;\n",
              "  box-sizing: border-box;\n",
              "  margin-bottom: 0.5em;\n",
              "  /* unfitted */\n",
              "  background-color: var(--sklearn-color-unfitted-level-0);\n",
              "}\n",
              "\n",
              "#sk-container-id-2 div.sk-estimator.fitted {\n",
              "  /* fitted */\n",
              "  background-color: var(--sklearn-color-fitted-level-0);\n",
              "}\n",
              "\n",
              "/* on hover */\n",
              "#sk-container-id-2 div.sk-estimator:hover {\n",
              "  /* unfitted */\n",
              "  background-color: var(--sklearn-color-unfitted-level-2);\n",
              "}\n",
              "\n",
              "#sk-container-id-2 div.sk-estimator.fitted:hover {\n",
              "  /* fitted */\n",
              "  background-color: var(--sklearn-color-fitted-level-2);\n",
              "}\n",
              "\n",
              "/* Specification for estimator info (e.g. \"i\" and \"?\") */\n",
              "\n",
              "/* Common style for \"i\" and \"?\" */\n",
              "\n",
              ".sk-estimator-doc-link,\n",
              "a:link.sk-estimator-doc-link,\n",
              "a:visited.sk-estimator-doc-link {\n",
              "  float: right;\n",
              "  font-size: smaller;\n",
              "  line-height: 1em;\n",
              "  font-family: monospace;\n",
              "  background-color: var(--sklearn-color-background);\n",
              "  border-radius: 1em;\n",
              "  height: 1em;\n",
              "  width: 1em;\n",
              "  text-decoration: none !important;\n",
              "  margin-left: 0.5em;\n",
              "  text-align: center;\n",
              "  /* unfitted */\n",
              "  border: var(--sklearn-color-unfitted-level-1) 1pt solid;\n",
              "  color: var(--sklearn-color-unfitted-level-1);\n",
              "}\n",
              "\n",
              ".sk-estimator-doc-link.fitted,\n",
              "a:link.sk-estimator-doc-link.fitted,\n",
              "a:visited.sk-estimator-doc-link.fitted {\n",
              "  /* fitted */\n",
              "  border: var(--sklearn-color-fitted-level-1) 1pt solid;\n",
              "  color: var(--sklearn-color-fitted-level-1);\n",
              "}\n",
              "\n",
              "/* On hover */\n",
              "div.sk-estimator:hover .sk-estimator-doc-link:hover,\n",
              ".sk-estimator-doc-link:hover,\n",
              "div.sk-label-container:hover .sk-estimator-doc-link:hover,\n",
              ".sk-estimator-doc-link:hover {\n",
              "  /* unfitted */\n",
              "  background-color: var(--sklearn-color-unfitted-level-3);\n",
              "  color: var(--sklearn-color-background);\n",
              "  text-decoration: none;\n",
              "}\n",
              "\n",
              "div.sk-estimator.fitted:hover .sk-estimator-doc-link.fitted:hover,\n",
              ".sk-estimator-doc-link.fitted:hover,\n",
              "div.sk-label-container:hover .sk-estimator-doc-link.fitted:hover,\n",
              ".sk-estimator-doc-link.fitted:hover {\n",
              "  /* fitted */\n",
              "  background-color: var(--sklearn-color-fitted-level-3);\n",
              "  color: var(--sklearn-color-background);\n",
              "  text-decoration: none;\n",
              "}\n",
              "\n",
              "/* Span, style for the box shown on hovering the info icon */\n",
              ".sk-estimator-doc-link span {\n",
              "  display: none;\n",
              "  z-index: 9999;\n",
              "  position: relative;\n",
              "  font-weight: normal;\n",
              "  right: .2ex;\n",
              "  padding: .5ex;\n",
              "  margin: .5ex;\n",
              "  width: min-content;\n",
              "  min-width: 20ex;\n",
              "  max-width: 50ex;\n",
              "  color: var(--sklearn-color-text);\n",
              "  box-shadow: 2pt 2pt 4pt #999;\n",
              "  /* unfitted */\n",
              "  background: var(--sklearn-color-unfitted-level-0);\n",
              "  border: .5pt solid var(--sklearn-color-unfitted-level-3);\n",
              "}\n",
              "\n",
              ".sk-estimator-doc-link.fitted span {\n",
              "  /* fitted */\n",
              "  background: var(--sklearn-color-fitted-level-0);\n",
              "  border: var(--sklearn-color-fitted-level-3);\n",
              "}\n",
              "\n",
              ".sk-estimator-doc-link:hover span {\n",
              "  display: block;\n",
              "}\n",
              "\n",
              "/* \"?\"-specific style due to the `<a>` HTML tag */\n",
              "\n",
              "#sk-container-id-2 a.estimator_doc_link {\n",
              "  float: right;\n",
              "  font-size: 1rem;\n",
              "  line-height: 1em;\n",
              "  font-family: monospace;\n",
              "  background-color: var(--sklearn-color-background);\n",
              "  border-radius: 1rem;\n",
              "  height: 1rem;\n",
              "  width: 1rem;\n",
              "  text-decoration: none;\n",
              "  /* unfitted */\n",
              "  color: var(--sklearn-color-unfitted-level-1);\n",
              "  border: var(--sklearn-color-unfitted-level-1) 1pt solid;\n",
              "}\n",
              "\n",
              "#sk-container-id-2 a.estimator_doc_link.fitted {\n",
              "  /* fitted */\n",
              "  border: var(--sklearn-color-fitted-level-1) 1pt solid;\n",
              "  color: var(--sklearn-color-fitted-level-1);\n",
              "}\n",
              "\n",
              "/* On hover */\n",
              "#sk-container-id-2 a.estimator_doc_link:hover {\n",
              "  /* unfitted */\n",
              "  background-color: var(--sklearn-color-unfitted-level-3);\n",
              "  color: var(--sklearn-color-background);\n",
              "  text-decoration: none;\n",
              "}\n",
              "\n",
              "#sk-container-id-2 a.estimator_doc_link.fitted:hover {\n",
              "  /* fitted */\n",
              "  background-color: var(--sklearn-color-fitted-level-3);\n",
              "}\n",
              "</style><div id=\"sk-container-id-2\" class=\"sk-top-container\"><div class=\"sk-text-repr-fallback\"><pre>SVC(C=100, gamma=0.001)</pre><b>In a Jupyter environment, please rerun this cell to show the HTML representation or trust the notebook. <br />On GitHub, the HTML representation is unable to render, please try loading this page with nbviewer.org.</b></div><div class=\"sk-container\" hidden><div class=\"sk-item\"><div class=\"sk-estimator fitted sk-toggleable\"><input class=\"sk-toggleable__control sk-hidden--visually\" id=\"sk-estimator-id-2\" type=\"checkbox\" checked><label for=\"sk-estimator-id-2\" class=\"sk-toggleable__label fitted sk-toggleable__label-arrow\"><div><div>SVC</div></div><div><a class=\"sk-estimator-doc-link fitted\" rel=\"noreferrer\" target=\"_blank\" href=\"https://scikit-learn.org/1.6/modules/generated/sklearn.svm.SVC.html\">?<span>Documentation for SVC</span></a><span class=\"sk-estimator-doc-link fitted\">i<span>Fitted</span></span></div></label><div class=\"sk-toggleable__content fitted\"><pre>SVC(C=100, gamma=0.001)</pre></div> </div></div></div></div>"
            ]
          },
          "metadata": {},
          "execution_count": 23
        }
      ],
      "source": [
        "# create SVM classifier with default RBF kernel\n",
        "svm_model = SVC(kernel='rbf', C=100, gamma=0.001)\n",
        "\n",
        "# Train the model\n",
        "svm_model.fit(x_train, y_train)"
      ]
    },
    {
      "cell_type": "code",
      "execution_count": 24,
      "id": "4701935c",
      "metadata": {
        "colab": {
          "base_uri": "https://localhost:8080/",
          "height": 472
        },
        "id": "4701935c",
        "outputId": "1618ea13-b8e7-43e3-b613-900ba34a7a34"
      },
      "outputs": [
        {
          "output_type": "display_data",
          "data": {
            "text/plain": [
              "<Figure size 640x480 with 2 Axes>"
            ],
            "image/png": "[encoded data removed]"
          },
          "metadata": {}
        }
      ],
      "source": [
        "# get predictions on test set\n",
        "svm_preds = svm_model.predict(x_test)\n",
        "\n",
        "# plot confusion matrix\n",
        "cm = confusion_matrix(y_test, svm_preds)\n",
        "disp = ConfusionMatrixDisplay(confusion_matrix=cm)\n",
        "disp.plot(cmap=plt.cm.Blues)\n",
        "plt.title('Random Forest Confusion Matrix')\n",
        "plt.show()\n"
      ]
    },
    {
      "cell_type": "code",
      "execution_count": 25,
      "id": "f8929314",
      "metadata": {
        "colab": {
          "base_uri": "https://localhost:8080/"
        },
        "id": "f8929314",
        "outputId": "28731e79-e3bb-4e94-c8ed-79af298d34f4"
      },
      "outputs": [
        {
          "output_type": "stream",
          "name": "stdout",
          "text": [
            "SVM Accuracy: 0.8534883720930233\n"
          ]
        }
      ],
      "source": [
        "print(f\"SVM Accuracy: {accuracy_score(y_test, svm_preds)}\")"
      ]
    },
    {
      "cell_type": "code",
      "source": [
        "svm_acc = accuracy_score(y_test, svm_preds)\n",
        "lrg_acc = accuracy_score(y_test, y_pred)\n",
        "rf_acc = accuracy_score(y_test, rf_preds)\n",
        "xgb_acc = accuracy_score(y_test, xgb_preds)"
      ],
      "metadata": {
        "id": "bNGkumZKhP8J"
      },
      "id": "bNGkumZKhP8J",
      "execution_count": 26,
      "outputs": []
    },
    {
      "cell_type": "code",
      "source": [
        "from sklearn.decomposition import PCA\n",
        "from sklearn.pipeline import Pipeline\n",
        "from sklearn.model_selection import GridSearchCV\n",
        "from sklearn.ensemble import RandomForestClassifier\n",
        "from sklearn.linear_model import LogisticRegression\n",
        "from sklearn.svm import SVC\n",
        "import pandas as pd\n",
        "\n",
        "pipelines = {\n",
        "    'RandomForest': Pipeline([\n",
        "        ('pca', PCA()),\n",
        "        ('clf', RandomForestClassifier(random_state=42))\n",
        "    ]),\n",
        "    'LogisticRegression': Pipeline([\n",
        "        ('pca', PCA()),\n",
        "        ('clf', LogisticRegression(max_iter=1000, random_state=42))\n",
        "    ]),\n",
        "    'SVM': Pipeline([\n",
        "        ('pca', PCA()),\n",
        "        ('clf', SVC(random_state=42))\n",
        "    ])\n",
        "}\n",
        "\n",
        "param_grids = {\n",
        "    'RandomForest': {\n",
        "        'pca__n_components': [5, 10, 15, 20, 0.95],\n",
        "        'clf__n_estimators': [100, 200],\n",
        "        'clf__max_depth': [None, 5, 10]\n",
        "    },\n",
        "    'LogisticRegression': {\n",
        "        'pca__n_components': [5, 10, 15, 20, 0.95],\n",
        "        'clf__C': [0.01, 0.1, 1, 10],\n",
        "        'clf__penalty': ['l2'],\n",
        "        'clf__solver': ['lbfgs']\n",
        "    },\n",
        "    'SVM': {\n",
        "        'pca__n_components': [5, 10, 15, 20, 0.95],\n",
        "        'clf__C': [0.1, 1, 10],\n",
        "        'clf__gamma': ['scale', 'auto'],\n",
        "        'clf__kernel': ['rbf']\n",
        "    }\n",
        "}\n",
        "\n",
        "results = []\n",
        "for name, pipe in pipelines.items():\n",
        "    grid = GridSearchCV(pipe,\n",
        "                        param_grids[name],\n",
        "                        cv=5,\n",
        "                        scoring='accuracy',\n",
        "                        n_jobs=-1,\n",
        "                        verbose=1)\n",
        "    grid.fit(x_train, y_train)\n",
        "    results.append({\n",
        "        'Model': name,\n",
        "        'Best CV Score': grid.best_score_,\n",
        "        'Best Parameters': grid.best_params_\n",
        "    })\n",
        "\n",
        "results_df = pd.DataFrame(results).set_index('Model')\n"
      ],
      "metadata": {
        "colab": {
          "base_uri": "https://localhost:8080/"
        },
        "id": "qepHRlWVhRg0",
        "outputId": "50b257cb-eb85-4d0f-9431-3d6d7d1e5b1b"
      },
      "id": "qepHRlWVhRg0",
      "execution_count": 27,
      "outputs": [
        {
          "output_type": "stream",
          "name": "stdout",
          "text": [
            "Fitting 5 folds for each of 30 candidates, totalling 150 fits\n",
            "Fitting 5 folds for each of 20 candidates, totalling 100 fits\n",
            "Fitting 5 folds for each of 30 candidates, totalling 150 fits\n"
          ]
        }
      ]
    },
    {
      "cell_type": "code",
      "source": [
        "# Model Accuracies w/o PCA Vs. Model Accuracies w/PCA\n",
        "print(\"Model Accuracies w/o PCA:\")\n",
        "print(f\"Logistic Regression Accuracy: {lrg_acc}\")\n",
        "print(f\"Random Forest Accuracy: {rf_acc}\")\n",
        "print(f\"XGBoost Accuracy: {xgb_acc}\")\n",
        "\n",
        "print(\"\\nModel Accuracies w/PCA:\")\n",
        "print(results_df)\n",
        "\n"
      ],
      "metadata": {
        "colab": {
          "base_uri": "https://localhost:8080/"
        },
        "id": "2a_KBqjNhTja",
        "outputId": "53ede08d-cbaf-413f-dacd-3b6af18fd3f1"
      },
      "id": "2a_KBqjNhTja",
      "execution_count": 28,
      "outputs": [
        {
          "output_type": "stream",
          "name": "stdout",
          "text": [
            "Model Accuracies w/o PCA:\n",
            "Logistic Regression Accuracy: 0.8790697674418605\n",
            "Random Forest Accuracy: 0.9465116279069767\n",
            "XGBoost Accuracy: 0.958139534883721\n",
            "\n",
            "Model Accuracies w/PCA:\n",
            "                    Best CV Score  \\\n",
            "Model                               \n",
            "RandomForest             0.779536   \n",
            "LogisticRegression       0.809201   \n",
            "SVM                      0.815008   \n",
            "\n",
            "                                                      Best Parameters  \n",
            "Model                                                                  \n",
            "RandomForest        {'clf__max_depth': None, 'clf__n_estimators': ...  \n",
            "LogisticRegression  {'clf__C': 10, 'clf__penalty': 'l2', 'clf__sol...  \n",
            "SVM                 {'clf__C': 1, 'clf__gamma': 'scale', 'clf__ker...  \n"
          ]
        }
      ]
    }
  ],
  "metadata": {
    "kernelspec": {
      "display_name": "Python 3",
      "name": "python3"
    },
    "language_info": {
      "codemirror_mode": {
        "name": "ipython",
        "version": 3
      },
      "file_extension": ".py",
      "mimetype": "text/x-python",
      "name": "python",
      "nbconvert_exporter": "python",
      "pygments_lexer": "ipython3",
      "version": "3.10.9"
    },
    "colab": {
      "provenance": [],
      "gpuType": "A100"
    },
    "accelerator": "GPU"
  },
  "nbformat": 4,
  "nbformat_minor": 5
}